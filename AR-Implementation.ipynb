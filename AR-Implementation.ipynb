{
  "cells": [
    {
      "cell_type": "markdown",
      "metadata": {
        "id": "Xc5QzhnKELfT"
      },
      "source": [
        "# Implementing and Exploring Auto-Regressive (AR) models\n",
        "\n",
        "In this notebook, we will implement and train a Neural Autoregressive Density Estimator (NADE) model on the MNIST dataset, analyze its sampling behavior and training dynamics, and adapt the code to explore its differences from a simpler FVSBN model. "
      ]
    },
    {
      "cell_type": "markdown",
      "metadata": {
        "id": "YVPhYI0GEY3J"
      },
      "source": [
        "\n",
        "## Part 1: Setup\n",
        "### Import necessary libraries"
      ]
    },
    {
      "cell_type": "code",
      "execution_count": 1,
      "metadata": {
        "id": "AwkRZTmdD2q0"
      },
      "outputs": [],
      "source": [
        "import torch\n",
        "from torch import nn, optim\n",
        "from torchvision import datasets, transforms\n",
        "from torch.utils.data import DataLoader, Subset\n",
        "import matplotlib.pyplot as plt\n",
        "import numpy as np\n",
        "\n",
        "import os\n",
        "from datetime import datetime\n"
      ]
    },
    {
      "cell_type": "markdown",
      "metadata": {
        "id": "1aI7Hv3dESNx"
      },
      "source": [
        "### Load MNIST dataset"
      ]
    },
    {
      "cell_type": "code",
      "execution_count": 2,
      "metadata": {
        "id": "5-gwiCuOD8WY"
      },
      "outputs": [
        {
          "name": "stdout",
          "output_type": "stream",
          "text": [
            "Downloading http://yann.lecun.com/exdb/mnist/train-images-idx3-ubyte.gz\n",
            "Failed to download (trying next):\n",
            "HTTP Error 404: Not Found\n",
            "\n",
            "Downloading https://ossci-datasets.s3.amazonaws.com/mnist/train-images-idx3-ubyte.gz\n",
            "Downloading https://ossci-datasets.s3.amazonaws.com/mnist/train-images-idx3-ubyte.gz to ./data/MNIST/raw/train-images-idx3-ubyte.gz\n"
          ]
        },
        {
          "name": "stderr",
          "output_type": "stream",
          "text": [
            "100%|██████████| 9912422/9912422 [00:36<00:00, 268130.47it/s] \n"
          ]
        },
        {
          "name": "stdout",
          "output_type": "stream",
          "text": [
            "Extracting ./data/MNIST/raw/train-images-idx3-ubyte.gz to ./data/MNIST/raw\n",
            "\n",
            "Downloading http://yann.lecun.com/exdb/mnist/train-labels-idx1-ubyte.gz\n",
            "Failed to download (trying next):\n",
            "HTTP Error 404: Not Found\n",
            "\n",
            "Downloading https://ossci-datasets.s3.amazonaws.com/mnist/train-labels-idx1-ubyte.gz\n",
            "Downloading https://ossci-datasets.s3.amazonaws.com/mnist/train-labels-idx1-ubyte.gz to ./data/MNIST/raw/train-labels-idx1-ubyte.gz\n"
          ]
        },
        {
          "name": "stderr",
          "output_type": "stream",
          "text": [
            "100%|██████████| 28881/28881 [00:00<00:00, 72288.53it/s]\n"
          ]
        },
        {
          "name": "stdout",
          "output_type": "stream",
          "text": [
            "Extracting ./data/MNIST/raw/train-labels-idx1-ubyte.gz to ./data/MNIST/raw\n",
            "\n",
            "Downloading http://yann.lecun.com/exdb/mnist/t10k-images-idx3-ubyte.gz\n",
            "Failed to download (trying next):\n",
            "HTTP Error 404: Not Found\n",
            "\n",
            "Downloading https://ossci-datasets.s3.amazonaws.com/mnist/t10k-images-idx3-ubyte.gz\n",
            "Downloading https://ossci-datasets.s3.amazonaws.com/mnist/t10k-images-idx3-ubyte.gz to ./data/MNIST/raw/t10k-images-idx3-ubyte.gz\n"
          ]
        },
        {
          "name": "stderr",
          "output_type": "stream",
          "text": [
            "100%|██████████| 1648877/1648877 [00:01<00:00, 1462714.55it/s]\n"
          ]
        },
        {
          "name": "stdout",
          "output_type": "stream",
          "text": [
            "Extracting ./data/MNIST/raw/t10k-images-idx3-ubyte.gz to ./data/MNIST/raw\n",
            "\n",
            "Downloading http://yann.lecun.com/exdb/mnist/t10k-labels-idx1-ubyte.gz\n",
            "Failed to download (trying next):\n",
            "HTTP Error 404: Not Found\n",
            "\n",
            "Downloading https://ossci-datasets.s3.amazonaws.com/mnist/t10k-labels-idx1-ubyte.gz\n",
            "Downloading https://ossci-datasets.s3.amazonaws.com/mnist/t10k-labels-idx1-ubyte.gz to ./data/MNIST/raw/t10k-labels-idx1-ubyte.gz\n"
          ]
        },
        {
          "name": "stderr",
          "output_type": "stream",
          "text": [
            "100%|██████████| 4542/4542 [00:00<00:00, 1012195.35it/s]"
          ]
        },
        {
          "name": "stdout",
          "output_type": "stream",
          "text": [
            "Extracting ./data/MNIST/raw/t10k-labels-idx1-ubyte.gz to ./data/MNIST/raw\n",
            "\n"
          ]
        },
        {
          "name": "stderr",
          "output_type": "stream",
          "text": [
            "\n"
          ]
        }
      ],
      "source": [
        "transform = transforms.Compose([transforms.ToTensor()])\n",
        "\n",
        "train_dataset = datasets.MNIST(root='./data', train=True, download=True, transform=transform)\n",
        "test_dataset = datasets.MNIST(root='./data', train=False, download=True, transform=transform)\n",
        "\n",
        "train_loader = DataLoader(train_dataset, batch_size=128, shuffle=True)\n",
        "test_loader = DataLoader(test_dataset, batch_size=128, shuffle=False)"
      ]
    },
    {
      "cell_type": "code",
      "execution_count": 3,
      "metadata": {
        "colab": {
          "base_uri": "https://localhost:8080/"
        },
        "id": "aGTEEUS2NlV0",
        "outputId": "fa22fe34-f9b8-4dd1-8d5b-34f93f8481e0"
      },
      "outputs": [
        {
          "name": "stdout",
          "output_type": "stream",
          "text": [
            "Dataset MNIST\n",
            "    Number of datapoints: 60000\n",
            "    Root location: ./data\n",
            "    Split: Train\n",
            "    StandardTransform\n",
            "Transform: Compose(\n",
            "               ToTensor()\n",
            "           )\n",
            "Dataset MNIST\n",
            "    Number of datapoints: 10000\n",
            "    Root location: ./data\n",
            "    Split: Test\n",
            "    StandardTransform\n",
            "Transform: Compose(\n",
            "               ToTensor()\n",
            "           )\n"
          ]
        }
      ],
      "source": [
        "print(train_loader.dataset)\n",
        "print(test_loader.dataset)"
      ]
    },
    {
      "cell_type": "markdown",
      "metadata": {
        "id": "ZO9NadePEf6Z"
      },
      "source": [
        "## Part 2: Explore and visualize data\n",
        "### Visualize samples"
      ]
    },
    {
      "cell_type": "code",
      "execution_count": 4,
      "metadata": {
        "colab": {
          "base_uri": "https://localhost:8080/",
          "height": 170
        },
        "id": "dpbqucnAEC3_",
        "outputId": "2f37cf0b-a29c-47d8-fe06-7b9a6b62dc73"
      },
      "outputs": [
        {
          "data": {
            "image/png": "[encoded data removed]",
            "text/plain": [
              "<Figure size 1000x300 with 6 Axes>"
            ]
          },
          "metadata": {},
          "output_type": "display_data"
        }
      ],
      "source": [
        "images, labels = next(iter(train_loader))\n",
        "fig, axes = plt.subplots(1, 6, figsize=(10, 3))\n",
        "for i in range(6):\n",
        "    axes[i].imshow(images[i].squeeze(), cmap='gray')\n",
        "    axes[i].axis('off')\n",
        "    axes[i].set_title(f'Label: {labels[i].item()}')\n",
        "plt.show()"
      ]
    },
    {
      "cell_type": "markdown",
      "metadata": {
        "id": "kXnnp6ugW-18"
      },
      "source": [
        "### Selective subset training\n",
        "For a faster training,we  only train on a subset of images from each digit (class)\n",
        "\n"
      ]
    },
    {
      "cell_type": "code",
      "execution_count": 5,
      "metadata": {
        "colab": {
          "base_uri": "https://localhost:8080/"
        },
        "id": "vfx6wixRW6Sk",
        "outputId": "be16a11b-4aea-4bcf-8ecc-01c6330037f7"
      },
      "outputs": [
        {
          "name": "stderr",
          "output_type": "stream",
          "text": [
            "/var/folders/4q/400klzy115q8kws7mhtw544m0000gn/T/ipykernel_38951/752742415.py:5: UserWarning: To copy construct from a tensor, it is recommended to use sourceTensor.clone().detach() or sourceTensor.clone().detach().requires_grad_(True), rather than torch.tensor(sourceTensor).\n",
            "  targets = torch.tensor(train_dataset.targets)\n"
          ]
        }
      ],
      "source": [
        "samples_per_class = 1000\n",
        "torch.manual_seed(123)\n",
        "\n",
        "'''  Create train_subset as a subset of the original training set based on the given instruction   '''\n",
        "targets = torch.tensor(train_dataset.targets)\n",
        "\n",
        "subset_indices = []\n",
        "for class_label in range(10):  # assuming 10 classes (digits 0-9)\n",
        "    class_indices = torch.where(targets == class_label)[0]\n",
        "    selected = class_indices[torch.randperm(len(class_indices))[:samples_per_class]]\n",
        "    subset_indices.extend(selected.tolist())\n",
        "\n",
        "\n",
        "train_subset = Subset(train_dataset, subset_indices)\n",
        "\n",
        "'''  Update train_loader based on created train_subset   '''\n",
        "train_loader = DataLoader(train_subset, batch_size=128, shuffle=True)"
      ]
    },
    {
      "cell_type": "markdown",
      "metadata": {
        "id": "mCMsIkaKqcBg"
      },
      "source": [
        "### Selective digit training\n",
        "For even faster training practice, only focuse on a subset of digits that are easier to learn\n",
        "\n"
      ]
    },
    {
      "cell_type": "code",
      "execution_count": 6,
      "metadata": {
        "colab": {
          "base_uri": "https://localhost:8080/"
        },
        "id": "lcvqpTPqQRlw",
        "outputId": "ccaa4c06-3ae9-43b4-b0d1-00c502264ebf"
      },
      "outputs": [
        {
          "data": {
            "text/plain": [
              "<torch.utils.data.dataloader.DataLoader at 0x12a431ad0>"
            ]
          },
          "execution_count": 6,
          "metadata": {},
          "output_type": "execute_result"
        }
      ],
      "source": [
        "train_loader"
      ]
    },
    {
      "cell_type": "code",
      "execution_count": 7,
      "metadata": {
        "colab": {
          "base_uri": "https://localhost:8080/"
        },
        "id": "unRUXbT1qxaa",
        "outputId": "ebfb5eb2-c829-48dc-8ca8-76ac184d9e22"
      },
      "outputs": [
        {
          "name": "stderr",
          "output_type": "stream",
          "text": [
            "/var/folders/4q/400klzy115q8kws7mhtw544m0000gn/T/ipykernel_38951/3902780187.py:4: UserWarning: To copy construct from a tensor, it is recommended to use sourceTensor.clone().detach() or sourceTensor.clone().detach().requires_grad_(True), rather than torch.tensor(sourceTensor).\n",
            "  targets = torch.tensor(train_dataset.targets)\n"
          ]
        }
      ],
      "source": [
        "# Train only on digits 1 and 7 (easiest to learn)\n",
        "digit_filter = [1, 7]\n",
        "\n",
        "targets = torch.tensor(train_dataset.targets)\n",
        "\n",
        "'''  Keep only digits in digit_filter in the training and test sets   '''\n",
        "train_focused_indices = [i for i in subset_indices if targets[i].item() in digit_filter]\n",
        "train_focused = Subset(train_dataset, train_focused_indices)\n",
        "\n",
        "test_focused_indices = [i for i, t in enumerate(test_dataset.targets) if t in digit_filter]\n",
        "test_focused = Subset(test_dataset, test_focused_indices)\n",
        "\n",
        "'''  Update train_loader based on created train_subset   '''\n",
        "training_focused_loader = DataLoader(train_focused, batch_size=128, shuffle=True)\n",
        "test_focused_loader = DataLoader(test_focused, batch_size=128, shuffle=True)"
      ]
    },
    {
      "cell_type": "markdown",
      "metadata": {
        "id": "X1yJ42POFCjN"
      },
      "source": [
        "## Part 3: Implement AR\n",
        "\n"
      ]
    },
    {
      "cell_type": "code",
      "execution_count": 11,
      "metadata": {
        "id": "y_9nJLECEHLr"
      },
      "outputs": [],
      "source": [
        "# 5. NADE Model\n",
        "class NADE(nn.Module):\n",
        "    def __init__(self, input_dim=784, hidden_dim=512):\n",
        "        \"\"\"Initialize the Neural Autoregressive Density Estimation model.\n",
        "\n",
        "        Args:\n",
        "            input_dim (int): Dimension of input data (flattened image size)\n",
        "            hidden_dim (int): Number of units in hidden layer\n",
        "        \"\"\"\n",
        "        super().__init__()\n",
        "        self.input_dim = input_dim\n",
        "        self.hidden_dim = hidden_dim\n",
        "        self.W = nn.Parameter(torch.randn(input_dim, hidden_dim) * 0.01)\n",
        "        self.c = nn.Parameter(torch.zeros(hidden_dim))\n",
        "        self.V = nn.Parameter(torch.randn(hidden_dim, input_dim) * 0.01)\n",
        "        self.b = nn.Parameter(torch.zeros(input_dim))\n",
        "\n",
        "        # Training metadata\n",
        "        self.start_epoch = 0\n",
        "        self.best_loss = float('inf')\n",
        "        self.train_history = []\n",
        "        self.test_history = []\n",
        "\n",
        "    def forward(self, x):\n",
        "        \"\"\"Forward pass through the NADE model.\n",
        "\n",
        "        Args:\n",
        "            x (torch.Tensor): Input tensor of shape (batch_size, input_dim)\n",
        "\n",
        "        Returns:\n",
        "            tuple: (x_hat, all_h) where:\n",
        "                x_hat: reconstructed probabilities for each dimension\n",
        "                all_h: all hidden states during autoregressive process\n",
        "        \"\"\"\n",
        "        batch_size = x.size(0)\n",
        "        x_hat = torch.zeros_like(x)\n",
        "        all_h = []\n",
        "        for d in range(self.input_dim):\n",
        "            # Compute pre-activation for dimension d:\n",
        "            # a_d = c + sum_{k<d} x_k * W_k\n",
        "            a_d = self.c + torch.matmul(x[:, :d], self.W[:d, :])\n",
        "            h_d = torch.sigmoid(a_d)\n",
        "            # Compute output probability for dimension d:\n",
        "            # p_d = sigmoid(b_d + V.T h_d)\n",
        "            p_d = torch.sigmoid(self.b[d] + torch.matmul(h_d, self.V[:, d]))\n",
        "            x_hat[:, d] = p_d\n",
        "            all_h.append(h_d)\n",
        "        return x_hat, torch.stack(all_h, dim=1)\n",
        "\n",
        "    def log_prob(self, x):\n",
        "        \"\"\"Compute log probability of input samples under the model.\n",
        "\n",
        "        Args:\n",
        "            x (torch.Tensor): Input tensor of shape (batch_size, input_dim)\n",
        "\n",
        "        Returns:\n",
        "            torch.Tensor: Log probabilities for each sample (batch_size)\n",
        "        \"\"\"\n",
        "        x_hat, _ = self.forward(x)\n",
        "        # Compute Bernoulli log likelihood:\n",
        "        # log p(x) = sum_d [x_d * log(p_d) + (1-x_d) * log(1-p_d)]  --- update this in order to avoid log of zero\n",
        "        epsilon = 1e-5\n",
        "        x_hat = torch.clamp(x_hat, min=epsilon, max=1 - epsilon)\n",
        "        log_prob = x * torch.log(x_hat) + (1 - x) * torch.log(1 - x_hat)\n",
        "\n",
        "        # Sum over all dimensions (input_dim)\n",
        "        return log_prob.sum(dim=1)\n",
        "\n",
        "\n",
        "    def generate_samples(self, num_samples=10):\n",
        "        \"\"\"\n",
        "        Generates new images via ancestral sampling\n",
        "        Args:\n",
        "            num_samples: How many images to generate\n",
        "        Returns:\n",
        "            Tensor of shape (num_samples, input_dim)\n",
        "        \"\"\"\n",
        "        samples = torch.zeros(num_samples, 784).to(device)\n",
        "        with torch.no_grad():\n",
        "            for d in range(784):\n",
        "                p_d = self.forward(samples)[0][:, d]\n",
        "                samples[:, d] = torch.bernoulli(p_d)\n",
        "        return samples.cpu()\n"
      ]
    },
    {
      "cell_type": "code",
      "execution_count": 12,
      "metadata": {
        "colab": {
          "base_uri": "https://localhost:8080/"
        },
        "id": "gx9qVvRhFrOl",
        "outputId": "7e639578-7118-48f2-985b-ad50eca41d46"
      },
      "outputs": [
        {
          "data": {
            "text/plain": [
              "device(type='cpu')"
            ]
          },
          "execution_count": 12,
          "metadata": {},
          "output_type": "execute_result"
        }
      ],
      "source": [
        "# The code runs faster if you run on GPU. Select Runtime -> Change runtime type -> T4 GPU\n",
        "device = torch.device('cuda' if torch.cuda.is_available() else 'cpu')\n",
        "device"
      ]
    },
    {
      "cell_type": "markdown",
      "metadata": {
        "id": "ublGJXRSQS_g"
      },
      "source": [
        "# Part 4: Train the model\n",
        "\n"
      ]
    },
    {
      "cell_type": "code",
      "execution_count": 13,
      "metadata": {
        "colab": {
          "base_uri": "https://localhost:8080/",
          "height": 373
        },
        "id": "qLmGEkMTyEXP",
        "outputId": "57fc8c74-5b84-4fc7-804a-ef92dbccf935"
      },
      "outputs": [
        {
          "name": "stdout",
          "output_type": "stream",
          "text": [
            "0, training_loss = 485.71885871887207, test_loss = 425.554931640625\n",
            "1, training_loss = 383.07337188720703, test_loss = 338.60357666015625\n",
            "2, training_loss = 309.8661308288574, test_loss = 278.9835205078125\n",
            "3, training_loss = 260.9707727432251, test_loss = 240.4549102783203\n",
            "4, training_loss = 229.6417474746704, test_loss = 215.87200927734375\n",
            "5, training_loss = 209.73782539367676, test_loss = 199.85629272460938\n",
            "6, training_loss = 196.65266609191895, test_loss = 189.1337432861328\n",
            "7, training_loss = 187.6312131881714, test_loss = 181.46437072753906\n",
            "8, training_loss = 181.12807369232178, test_loss = 175.9446258544922\n",
            "9, training_loss = 176.06694793701172, test_loss = 171.69703674316406\n",
            "10, training_loss = 172.50932788848877, test_loss = 168.33924865722656\n",
            "11, training_loss = 169.72074127197266, test_loss = 165.66790771484375\n",
            "12, training_loss = 167.1359167098999, test_loss = 163.49700927734375\n",
            "13, training_loss = 165.27065086364746, test_loss = 161.60842895507812\n",
            "14, training_loss = 163.28350257873535, test_loss = 159.9355926513672\n",
            "15, training_loss = 161.75224590301514, test_loss = 158.5123291015625\n",
            "16, training_loss = 160.69534015655518, test_loss = 157.25665283203125\n",
            "17, training_loss = 159.08877849578857, test_loss = 156.0199737548828\n",
            "18, training_loss = 157.9975299835205, test_loss = 154.88345336914062\n",
            "19, training_loss = 156.92234420776367, test_loss = 153.7755889892578\n",
            "20, training_loss = 155.87592124938965, test_loss = 152.67115783691406\n",
            "21, training_loss = 154.78840446472168, test_loss = 151.62266540527344\n",
            "22, training_loss = 153.71932983398438, test_loss = 150.53504943847656\n",
            "23, training_loss = 152.564866065979, test_loss = 149.4690399169922\n",
            "24, training_loss = 151.46841621398926, test_loss = 148.3376922607422\n",
            "25, training_loss = 149.98576068878174, test_loss = 147.1598358154297\n",
            "26, training_loss = 149.08116912841797, test_loss = 146.04286193847656\n",
            "27, training_loss = 148.0501413345337, test_loss = 144.7927703857422\n",
            "28, training_loss = 146.6407585144043, test_loss = 143.64260864257812\n",
            "29, training_loss = 145.50087928771973, test_loss = 142.39529418945312\n",
            "30, training_loss = 144.36942768096924, test_loss = 141.17845153808594\n",
            "31, training_loss = 142.95563888549805, test_loss = 140.0916290283203\n",
            "32, training_loss = 142.08165645599365, test_loss = 138.93417358398438\n",
            "33, training_loss = 140.55852031707764, test_loss = 137.83303833007812\n",
            "34, training_loss = 139.58941459655762, test_loss = 136.73724365234375\n",
            "35, training_loss = 138.51603603363037, test_loss = 135.7046661376953\n",
            "36, training_loss = 137.70034408569336, test_loss = 134.72921752929688\n",
            "37, training_loss = 136.60968208312988, test_loss = 133.7925567626953\n",
            "38, training_loss = 135.69474697113037, test_loss = 132.890869140625\n",
            "39, training_loss = 134.73923587799072, test_loss = 132.06298828125\n",
            "40, training_loss = 133.9272255897522, test_loss = 131.2293701171875\n",
            "41, training_loss = 133.19263172149658, test_loss = 130.3977813720703\n",
            "42, training_loss = 132.5623688697815, test_loss = 129.642822265625\n",
            "43, training_loss = 131.87960243225098, test_loss = 128.8240203857422\n",
            "44, training_loss = 130.9105100631714, test_loss = 128.12814331054688\n",
            "45, training_loss = 130.3271164894104, test_loss = 127.41486358642578\n",
            "46, training_loss = 129.57758617401123, test_loss = 126.72180938720703\n",
            "47, training_loss = 128.85647439956665, test_loss = 126.08160400390625\n",
            "48, training_loss = 128.42568731307983, test_loss = 125.3968734741211\n",
            "49, training_loss = 127.51253175735474, test_loss = 124.69992065429688\n",
            "50, training_loss = 127.08826351165771, test_loss = 124.03668212890625\n",
            "51, training_loss = 126.30228328704834, test_loss = 123.36788940429688\n",
            "52, training_loss = 125.73047351837158, test_loss = 122.70217895507812\n",
            "53, training_loss = 125.08475303649902, test_loss = 122.12886047363281\n",
            "54, training_loss = 124.30067682266235, test_loss = 121.41486358642578\n",
            "55, training_loss = 124.00728511810303, test_loss = 120.8125\n",
            "56, training_loss = 123.42500305175781, test_loss = 120.15406036376953\n",
            "57, training_loss = 122.67040586471558, test_loss = 119.48304748535156\n",
            "58, training_loss = 122.01994132995605, test_loss = 118.81974029541016\n",
            "59, training_loss = 121.5304946899414, test_loss = 118.26368713378906\n",
            "60, training_loss = 120.73333883285522, test_loss = 117.63349151611328\n",
            "61, training_loss = 120.07876968383789, test_loss = 117.03631591796875\n",
            "62, training_loss = 119.55147886276245, test_loss = 116.41329956054688\n",
            "63, training_loss = 118.95878410339355, test_loss = 115.82244110107422\n",
            "64, training_loss = 118.39925813674927, test_loss = 115.26448059082031\n",
            "65, training_loss = 117.95547580718994, test_loss = 114.6600341796875\n",
            "66, training_loss = 117.2479977607727, test_loss = 114.01030731201172\n",
            "67, training_loss = 116.58749008178711, test_loss = 113.52188110351562\n",
            "68, training_loss = 115.92583417892456, test_loss = 112.95203399658203\n",
            "69, training_loss = 115.70847606658936, test_loss = 112.4241943359375\n",
            "70, training_loss = 115.08872747421265, test_loss = 111.90828704833984\n",
            "71, training_loss = 114.59838104248047, test_loss = 111.34783172607422\n",
            "72, training_loss = 114.25111055374146, test_loss = 110.8802490234375\n",
            "73, training_loss = 113.54623317718506, test_loss = 110.3479232788086\n",
            "74, training_loss = 112.9705057144165, test_loss = 109.8874740600586\n",
            "75, training_loss = 112.86407661437988, test_loss = 109.45822143554688\n",
            "76, training_loss = 112.06628894805908, test_loss = 108.93122100830078\n",
            "77, training_loss = 111.77130651473999, test_loss = 108.45983123779297\n",
            "78, training_loss = 111.32619285583496, test_loss = 108.01715850830078\n",
            "79, training_loss = 110.67903900146484, test_loss = 107.5634765625\n",
            "80, training_loss = 110.27548360824585, test_loss = 107.14543151855469\n",
            "81, training_loss = 109.94010829925537, test_loss = 106.7649154663086\n",
            "82, training_loss = 109.65282392501831, test_loss = 106.35034942626953\n",
            "83, training_loss = 109.11741018295288, test_loss = 105.93815612792969\n",
            "84, training_loss = 108.94914150238037, test_loss = 105.52851104736328\n",
            "85, training_loss = 108.36950540542603, test_loss = 105.15241241455078\n",
            "86, training_loss = 107.97652864456177, test_loss = 104.76698303222656\n",
            "87, training_loss = 107.78422689437866, test_loss = 104.49140167236328\n",
            "88, training_loss = 107.30636835098267, test_loss = 104.07659912109375\n",
            "89, training_loss = 106.68606662750244, test_loss = 103.6865005493164\n",
            "90, training_loss = 106.50868225097656, test_loss = 103.35527038574219\n",
            "91, training_loss = 106.13611555099487, test_loss = 103.01947784423828\n",
            "92, training_loss = 105.74793481826782, test_loss = 102.60768127441406\n",
            "93, training_loss = 105.31280994415283, test_loss = 102.29582214355469\n",
            "94, training_loss = 105.04903793334961, test_loss = 101.99481201171875\n",
            "95, training_loss = 104.72519588470459, test_loss = 101.60475158691406\n",
            "96, training_loss = 104.58775424957275, test_loss = 101.32669830322266\n",
            "97, training_loss = 104.22336530685425, test_loss = 101.01707458496094\n",
            "98, training_loss = 103.75384092330933, test_loss = 100.71615600585938\n",
            "99, training_loss = 103.5720443725586, test_loss = 100.42642211914062\n",
            "100, training_loss = 103.09428071975708, test_loss = 100.1114273071289\n",
            "101, training_loss = 103.00930786132812, test_loss = 99.84923553466797\n",
            "102, training_loss = 102.39797163009644, test_loss = 99.50154113769531\n",
            "103, training_loss = 102.25963830947876, test_loss = 99.21697235107422\n",
            "104, training_loss = 102.04456853866577, test_loss = 98.92847442626953\n",
            "105, training_loss = 101.71762704849243, test_loss = 98.6880874633789\n",
            "106, training_loss = 101.42200422286987, test_loss = 98.40284729003906\n",
            "107, training_loss = 100.86223030090332, test_loss = 98.11408233642578\n",
            "108, training_loss = 100.69159317016602, test_loss = 97.79292297363281\n",
            "109, training_loss = 100.38512420654297, test_loss = 97.50718688964844\n",
            "110, training_loss = 100.22145509719849, test_loss = 97.34768676757812\n",
            "111, training_loss = 99.89216041564941, test_loss = 97.0103759765625\n",
            "112, training_loss = 99.81272172927856, test_loss = 96.75281524658203\n",
            "113, training_loss = 99.20510530471802, test_loss = 96.50457763671875\n",
            "114, training_loss = 99.15060806274414, test_loss = 96.22947692871094\n",
            "115, training_loss = 98.70351696014404, test_loss = 96.00599670410156\n",
            "116, training_loss = 98.7593207359314, test_loss = 95.70454406738281\n",
            "117, training_loss = 98.37341547012329, test_loss = 95.48790740966797\n",
            "118, training_loss = 98.0627088546753, test_loss = 95.25836944580078\n",
            "119, training_loss = 97.90117263793945, test_loss = 95.0243911743164\n",
            "120, training_loss = 97.78035688400269, test_loss = 94.74425506591797\n",
            "121, training_loss = 97.31201791763306, test_loss = 94.51736450195312\n",
            "122, training_loss = 96.97387170791626, test_loss = 94.27859497070312\n",
            "123, training_loss = 96.81061315536499, test_loss = 94.07408905029297\n",
            "124, training_loss = 96.6268401145935, test_loss = 93.83849334716797\n",
            "125, training_loss = 96.40780687332153, test_loss = 93.62928771972656\n",
            "126, training_loss = 96.01075410842896, test_loss = 93.38775634765625\n",
            "127, training_loss = 95.71747779846191, test_loss = 93.16387939453125\n",
            "128, training_loss = 95.81436014175415, test_loss = 92.91531372070312\n",
            "129, training_loss = 95.36957502365112, test_loss = 92.73040771484375\n",
            "130, training_loss = 95.15126180648804, test_loss = 92.49603271484375\n",
            "131, training_loss = 94.93681144714355, test_loss = 92.27986907958984\n",
            "132, training_loss = 94.64906120300293, test_loss = 92.07122802734375\n",
            "133, training_loss = 94.42814588546753, test_loss = 91.86188507080078\n",
            "134, training_loss = 94.28644943237305, test_loss = 91.65999603271484\n",
            "135, training_loss = 94.15189123153687, test_loss = 91.43533325195312\n",
            "136, training_loss = 93.81498146057129, test_loss = 91.19647216796875\n",
            "137, training_loss = 93.65454816818237, test_loss = 91.03938293457031\n",
            "138, training_loss = 93.39302921295166, test_loss = 90.81101989746094\n",
            "139, training_loss = 93.22110319137573, test_loss = 90.65290832519531\n",
            "140, training_loss = 93.04386043548584, test_loss = 90.44546508789062\n",
            "141, training_loss = 92.96404886245728, test_loss = 90.23566436767578\n",
            "142, training_loss = 92.54844760894775, test_loss = 90.05879211425781\n",
            "143, training_loss = 92.5624361038208, test_loss = 89.82890319824219\n",
            "144, training_loss = 92.31362581253052, test_loss = 89.64874267578125\n",
            "145, training_loss = 91.90374946594238, test_loss = 89.4510726928711\n",
            "146, training_loss = 91.75335264205933, test_loss = 89.26535034179688\n",
            "147, training_loss = 91.67471981048584, test_loss = 89.05888366699219\n",
            "148, training_loss = 91.24417924880981, test_loss = 88.9140396118164\n",
            "149, training_loss = 91.16326189041138, test_loss = 88.67000579833984\n",
            "150, training_loss = 91.02439403533936, test_loss = 88.5594711303711\n",
            "151, training_loss = 90.66840267181396, test_loss = 88.37945556640625\n",
            "152, training_loss = 90.64914560317993, test_loss = 88.18108367919922\n",
            "153, training_loss = 90.52342128753662, test_loss = 87.99478149414062\n",
            "154, training_loss = 90.18549013137817, test_loss = 87.85118865966797\n",
            "155, training_loss = 90.18967151641846, test_loss = 87.66495513916016\n",
            "156, training_loss = 89.5900149345398, test_loss = 87.4773941040039\n",
            "157, training_loss = 89.58148241043091, test_loss = 87.31963348388672\n",
            "158, training_loss = 89.43488931655884, test_loss = 87.133056640625\n",
            "159, training_loss = 89.27384853363037, test_loss = 86.9356460571289\n",
            "160, training_loss = 89.11954545974731, test_loss = 86.79145812988281\n",
            "161, training_loss = 88.88441801071167, test_loss = 86.63369750976562\n",
            "162, training_loss = 88.72408390045166, test_loss = 86.43732452392578\n",
            "163, training_loss = 88.58044528961182, test_loss = 86.32256317138672\n",
            "164, training_loss = 88.31069564819336, test_loss = 86.1568603515625\n",
            "165, training_loss = 88.23173570632935, test_loss = 86.01238250732422\n",
            "166, training_loss = 87.9475474357605, test_loss = 85.79914855957031\n",
            "167, training_loss = 87.83899879455566, test_loss = 85.64236450195312\n",
            "168, training_loss = 87.57581233978271, test_loss = 85.49868774414062\n",
            "169, training_loss = 87.45617198944092, test_loss = 85.36637115478516\n",
            "170, training_loss = 87.4607629776001, test_loss = 85.19818115234375\n",
            "171, training_loss = 87.1479287147522, test_loss = 85.03034210205078\n",
            "172, training_loss = 87.08631801605225, test_loss = 84.86973571777344\n",
            "173, training_loss = 86.95715093612671, test_loss = 84.72809600830078\n",
            "174, training_loss = 86.81570720672607, test_loss = 84.6150894165039\n",
            "175, training_loss = 86.63585615158081, test_loss = 84.42486572265625\n",
            "176, training_loss = 86.37853336334229, test_loss = 84.29138946533203\n",
            "177, training_loss = 86.23447799682617, test_loss = 84.1688232421875\n",
            "178, training_loss = 86.13314056396484, test_loss = 83.97513580322266\n",
            "179, training_loss = 86.16075468063354, test_loss = 83.87203979492188\n",
            "180, training_loss = 85.78806591033936, test_loss = 83.72479248046875\n",
            "181, training_loss = 85.81021165847778, test_loss = 83.56122589111328\n",
            "182, training_loss = 85.35294246673584, test_loss = 83.41806030273438\n",
            "183, training_loss = 85.25355672836304, test_loss = 83.31356811523438\n",
            "184, training_loss = 85.22128248214722, test_loss = 83.15010833740234\n",
            "185, training_loss = 85.08111572265625, test_loss = 82.98858642578125\n",
            "186, training_loss = 84.86393117904663, test_loss = 82.89301300048828\n",
            "187, training_loss = 84.71024465560913, test_loss = 82.74810791015625\n",
            "188, training_loss = 84.58108043670654, test_loss = 82.62580108642578\n",
            "189, training_loss = 84.42818975448608, test_loss = 82.51516723632812\n",
            "190, training_loss = 84.2722544670105, test_loss = 82.37899017333984\n",
            "191, training_loss = 84.18240594863892, test_loss = 82.2191162109375\n",
            "192, training_loss = 84.10210657119751, test_loss = 82.0691909790039\n",
            "193, training_loss = 83.8038182258606, test_loss = 81.9449691772461\n",
            "194, training_loss = 83.75671672821045, test_loss = 81.85379028320312\n",
            "195, training_loss = 83.44808387756348, test_loss = 81.71903991699219\n",
            "196, training_loss = 83.26500368118286, test_loss = 81.59999084472656\n",
            "197, training_loss = 83.24808168411255, test_loss = 81.42013549804688\n",
            "198, training_loss = 83.22952890396118, test_loss = 81.346435546875\n",
            "199, training_loss = 83.0351734161377, test_loss = 81.2181625366211\n",
            "200, training_loss = 82.94682216644287, test_loss = 81.1062240600586\n",
            "201, training_loss = 82.7339415550232, test_loss = 81.00383758544922\n",
            "202, training_loss = 82.76150226593018, test_loss = 80.82439422607422\n",
            "203, training_loss = 82.54679679870605, test_loss = 80.72789764404297\n",
            "204, training_loss = 82.3079686164856, test_loss = 80.6043701171875\n",
            "205, training_loss = 82.28990316390991, test_loss = 80.46892547607422\n",
            "206, training_loss = 82.09514236450195, test_loss = 80.38069152832031\n",
            "207, training_loss = 82.10168886184692, test_loss = 80.25938415527344\n",
            "208, training_loss = 81.74274396896362, test_loss = 80.19367218017578\n",
            "209, training_loss = 81.59681797027588, test_loss = 80.06245422363281\n",
            "210, training_loss = 81.40460395812988, test_loss = 79.87838745117188\n",
            "211, training_loss = 81.4617166519165, test_loss = 79.82589721679688\n",
            "212, training_loss = 81.27409648895264, test_loss = 79.72045135498047\n",
            "213, training_loss = 81.17101240158081, test_loss = 79.60218048095703\n",
            "214, training_loss = 81.01463747024536, test_loss = 79.48257446289062\n",
            "215, training_loss = 80.9113655090332, test_loss = 79.3467025756836\n",
            "216, training_loss = 80.90460920333862, test_loss = 79.26612091064453\n",
            "217, training_loss = 80.84773540496826, test_loss = 79.11005401611328\n",
            "218, training_loss = 80.59396409988403, test_loss = 78.99122619628906\n",
            "219, training_loss = 80.46392250061035, test_loss = 78.92149353027344\n",
            "220, training_loss = 80.23515033721924, test_loss = 78.84392547607422\n",
            "221, training_loss = 80.2833104133606, test_loss = 78.69216918945312\n",
            "222, training_loss = 80.21127223968506, test_loss = 78.60397338867188\n",
            "223, training_loss = 80.18458652496338, test_loss = 78.52127838134766\n",
            "224, training_loss = 79.960196018219, test_loss = 78.38101196289062\n",
            "225, training_loss = 79.85981845855713, test_loss = 78.27383422851562\n",
            "226, training_loss = 79.85924339294434, test_loss = 78.19676971435547\n",
            "227, training_loss = 79.67307186126709, test_loss = 78.090087890625\n",
            "228, training_loss = 79.62407159805298, test_loss = 77.9708480834961\n",
            "229, training_loss = 79.19127368927002, test_loss = 77.84696960449219\n",
            "230, training_loss = 79.19822692871094, test_loss = 77.81653594970703\n",
            "231, training_loss = 79.06429243087769, test_loss = 77.67674255371094\n",
            "232, training_loss = 79.04332780838013, test_loss = 77.61951446533203\n",
            "233, training_loss = 78.83030128479004, test_loss = 77.52804565429688\n",
            "234, training_loss = 78.7876935005188, test_loss = 77.36669921875\n",
            "235, training_loss = 78.71026515960693, test_loss = 77.27857971191406\n",
            "236, training_loss = 78.63322973251343, test_loss = 77.18531799316406\n",
            "237, training_loss = 78.56746912002563, test_loss = 77.07669830322266\n",
            "238, training_loss = 78.21937704086304, test_loss = 76.99957275390625\n",
            "239, training_loss = 78.29112100601196, test_loss = 76.90496063232422\n",
            "240, training_loss = 77.98318099975586, test_loss = 76.82252502441406\n",
            "241, training_loss = 78.13429975509644, test_loss = 76.70687103271484\n",
            "242, training_loss = 78.02254915237427, test_loss = 76.6359634399414\n",
            "243, training_loss = 77.7912974357605, test_loss = 76.53530883789062\n",
            "244, training_loss = 77.81091022491455, test_loss = 76.43121337890625\n",
            "245, training_loss = 77.69613838195801, test_loss = 76.32091522216797\n",
            "246, training_loss = 77.57613277435303, test_loss = 76.23689270019531\n",
            "247, training_loss = 77.38544273376465, test_loss = 76.17615509033203\n",
            "248, training_loss = 77.23563432693481, test_loss = 76.05669403076172\n",
            "249, training_loss = 77.34127855300903, test_loss = 75.97310638427734\n",
            "250, training_loss = 77.16673851013184, test_loss = 75.86290740966797\n",
            "251, training_loss = 77.06162023544312, test_loss = 75.79678344726562\n",
            "252, training_loss = 76.8434329032898, test_loss = 75.65481567382812\n",
            "253, training_loss = 76.90280532836914, test_loss = 75.60198211669922\n",
            "254, training_loss = 76.71145009994507, test_loss = 75.50928497314453\n",
            "255, training_loss = 76.6287145614624, test_loss = 75.45072937011719\n",
            "256, training_loss = 76.43224334716797, test_loss = 75.35211944580078\n",
            "257, training_loss = 76.45522499084473, test_loss = 75.25463104248047\n",
            "258, training_loss = 76.17071056365967, test_loss = 75.17572021484375\n",
            "259, training_loss = 76.12527370452881, test_loss = 75.080322265625\n",
            "260, training_loss = 76.1799521446228, test_loss = 74.95928955078125\n",
            "261, training_loss = 76.02162551879883, test_loss = 74.91570281982422\n",
            "262, training_loss = 75.94897937774658, test_loss = 74.83324432373047\n",
            "263, training_loss = 75.8927493095398, test_loss = 74.7637939453125\n",
            "264, training_loss = 75.71800947189331, test_loss = 74.67753601074219\n",
            "265, training_loss = 75.5629334449768, test_loss = 74.58544921875\n",
            "266, training_loss = 75.5672516822815, test_loss = 74.46086120605469\n",
            "267, training_loss = 75.4726734161377, test_loss = 74.38138580322266\n",
            "268, training_loss = 75.24881076812744, test_loss = 74.34857177734375\n",
            "269, training_loss = 75.19412899017334, test_loss = 74.25239562988281\n",
            "270, training_loss = 75.17700529098511, test_loss = 74.15361022949219\n",
            "271, training_loss = 75.15042495727539, test_loss = 74.0925521850586\n",
            "272, training_loss = 74.86747980117798, test_loss = 73.9781265258789\n",
            "273, training_loss = 74.82210731506348, test_loss = 73.91475677490234\n",
            "274, training_loss = 74.8198447227478, test_loss = 73.8145751953125\n",
            "275, training_loss = 74.71608114242554, test_loss = 73.75147247314453\n",
            "276, training_loss = 74.6894907951355, test_loss = 73.6767578125\n",
            "277, training_loss = 74.57282781600952, test_loss = 73.58721160888672\n",
            "278, training_loss = 74.46839094161987, test_loss = 73.50153350830078\n",
            "279, training_loss = 74.44201326370239, test_loss = 73.4128646850586\n",
            "280, training_loss = 74.32023811340332, test_loss = 73.31693267822266\n",
            "281, training_loss = 74.25262641906738, test_loss = 73.29973602294922\n",
            "282, training_loss = 74.13794326782227, test_loss = 73.17021942138672\n",
            "283, training_loss = 74.02027463912964, test_loss = 73.10220336914062\n",
            "284, training_loss = 74.02070188522339, test_loss = 73.05480194091797\n",
            "285, training_loss = 73.79451894760132, test_loss = 72.97358703613281\n",
            "286, training_loss = 73.73229742050171, test_loss = 72.89096069335938\n",
            "287, training_loss = 73.71335983276367, test_loss = 72.80560302734375\n",
            "288, training_loss = 73.68080759048462, test_loss = 72.72677612304688\n",
            "289, training_loss = 73.53703927993774, test_loss = 72.66521453857422\n",
            "290, training_loss = 73.31606721878052, test_loss = 72.62847900390625\n",
            "291, training_loss = 73.2329568862915, test_loss = 72.51189422607422\n",
            "292, training_loss = 73.29569911956787, test_loss = 72.4635238647461\n",
            "293, training_loss = 73.09217691421509, test_loss = 72.34059143066406\n",
            "294, training_loss = 73.03943395614624, test_loss = 72.2613296508789\n",
            "295, training_loss = 72.9059066772461, test_loss = 72.23159790039062\n",
            "296, training_loss = 72.78855514526367, test_loss = 72.13248443603516\n",
            "297, training_loss = 72.88263368606567, test_loss = 72.06097412109375\n",
            "298, training_loss = 72.82279634475708, test_loss = 72.03675079345703\n",
            "299, training_loss = 72.6111798286438, test_loss = 71.92987060546875\n"
          ]
        }
      ],
      "source": [
        "model = NADE().to(device)\n",
        "optimizer = optim.Adam(model.parameters(), lr=1e-4)\n",
        "\n",
        "num_epochs = 300\n",
        "train_losses = []\n",
        "test_losses = []\n",
        "\n",
        "for epoch in range(num_epochs):\n",
        "    model.train()\n",
        "    train_loss = 0\n",
        "\n",
        "    for batch, _ in training_focused_loader:\n",
        "        batch = batch.view(-1, 784).to(device)\n",
        "        optimizer.zero_grad()\n",
        "        loss = -model.log_prob(batch).mean()\n",
        "        loss.backward()\n",
        "        optimizer.step()\n",
        "        train_loss += loss.item()\n",
        "\n",
        "    avg_train_loss = train_loss / len(training_focused_loader)\n",
        "    train_losses.append(avg_train_loss)\n",
        "\n",
        "    # Validation: similar to training, except no optimization and backward steps\n",
        "    model.eval()\n",
        "    with torch.no_grad():\n",
        "        test_loss = 0\n",
        "        for batch, _ in test_focused_loader:\n",
        "            batch = batch.view(-1, 784).to(device)\n",
        "            test_loss += -model.log_prob(batch).mean()\n",
        "        avg_test_loss = test_loss / len(test_focused_loader)\n",
        "        test_losses.append(avg_test_loss)\n",
        "\n",
        "\n",
        "    # For each epoch, print: epoch number, training loss, and test loss\n",
        "    print(f\"{epoch}, training_loss = {avg_train_loss}, test_loss = {avg_test_loss}\")\n"
      ]
    },
    {
      "cell_type": "markdown",
      "metadata": {
        "id": "oVWYLcyvLhLd"
      },
      "source": [
        "# Part 5: Analyze Results\n",
        "\n"
      ]
    },
    {
      "cell_type": "markdown",
      "metadata": {},
      "source": [
        "The model has clearly converged. As shown in the plot, The training and validation loss curves drop sharply at the beginning and then progressively level off as training continues which shows the convergence.\n",
        "After 300 epochs, the training loss (72.61) and test loss (71.93) are very close.\n",
        "\n",
        "another thing that we can see is that, the training and test loss remain very close to each other across all epochs, indicating no major overfitting and good generalization."
      ]
    },
    {
      "cell_type": "code",
      "execution_count": 14,
      "metadata": {
        "id": "BzkCpNZDFTwz"
      },
      "outputs": [
        {
          "data": {
            "image/png": "[encoded data removed]",
            "text/plain": [
              "<Figure size 1000x500 with 1 Axes>"
            ]
          },
          "metadata": {},
          "output_type": "display_data"
        }
      ],
      "source": [
        "plt.figure(figsize=(10, 5))\n",
        "plt.plot(train_losses, label=\"train\")\n",
        "plt.plot(test_losses, label=\"test\")\n",
        "plt.xlabel(\"epoch\")\n",
        "plt.ylabel(\"loss\")\n",
        "plt.legend()\n",
        "plt.title(\"average loss per epoch\")\n",
        "plt.show()"
      ]
    },
    {
      "cell_type": "markdown",
      "metadata": {
        "id": "lbxuu77XjrR0"
      },
      "source": [
        "# Part 6: Generate and visualize samples\n"
      ]
    },
    {
      "cell_type": "code",
      "execution_count": 16,
      "metadata": {
        "id": "Bqwl8smGGjp2"
      },
      "outputs": [
        {
          "data": {
            "image/png": "[encoded data removed]",
            "text/plain": [
              "<Figure size 1200x300 with 10 Axes>"
            ]
          },
          "metadata": {},
          "output_type": "display_data"
        }
      ],
      "source": [
        "samples = model.generate_samples()\n",
        "plt.figure(figsize=(12, 3))\n",
        "for i in range(10):\n",
        "    plt.subplot(1, 10, i+1)\n",
        "    plt.imshow(samples[i].view(28, 28), cmap='gray')\n",
        "    plt.axis('off')\n",
        "plt.suptitle(f\"Generated Samples - Epoch {num_epochs}\")\n",
        "plt.tight_layout()\n",
        "plt.show()"
      ]
    },
    {
      "cell_type": "markdown",
      "metadata": {
        "id": "uRPIsJ5smrmV"
      },
      "source": [
        "# Part 7: FVSBN Implementation\n",
        "### TODO:\n",
        "\n",
        "Compare and contrast the model structures of FVSBN and NADE by addressing:\n",
        "\n",
        "  (a) How the conditional probability p(x_i|x_<i) is computed differently in each architecture\n",
        "\n",
        "  * FVSBN: Each pixel is predicted using a masked linear transformation of previous pixels.\n",
        "  * NADE: Here we use one layer neural network instead of logistic regression. Hidden units act like a “context encoder” for previously seen pixels.\n",
        "\n",
        "\n",
        "  (b) The role of hidden units in NADE versus direct parameterization in FVSBN\n",
        "\n",
        "  * FVSBN: Has no hidden layer. Each conditional distribution is a simple function of inputs before it. because of that its simpler and faster than NADE.\n",
        "  * NADE: Hidden units have been used to modeling complexity. They help NADE approximate complex multimodal distributions because we add another layer and it makes our model more powerful.\n",
        "\n",
        "  (c) The memory requirements for each model given an input dimension D. Support your analysis with specific equations from both architectures.\n",
        "\n",
        "  * FVSBN: In each step parameters are  $\\alpha_i = \\{\\alpha_0^i ,  \\alpha_1^i, ... ,\\alpha_{i - 1}^i\\}$ so the conditional for variable xi requires i parameters,  and hence the total number of parameters is given by $\\sum_{i=1}^{D} i = O(D^2)$.\n",
        "  * NADE: The total number of parameters in this model is dominated by the matrices $\\{ A_1, ... , A_n \\}$ which their dimensions is $ D * (i - 1) $ now the total number of parameters is $\\sum_{i=1}^{H} D(i - 1) = O(DH^2)$ we can shared parameters and tie weights to reduce the number of parameters to $O(HD)$ which H is the number of hidden nodes.\n",
        "\n",
        "3. Empirical Evaluation\n",
        "Design a systematic comparison between your trained FVSBN and NADE models by evaluating:\n",
        "\n",
        "  (a) Training convergence rates using identical hyperparameters\n",
        "    \n",
        "  * FVSBN: Converges faster because has fewer parameters.\n",
        "  * NADE: Takes longer to converge because it has a hidden layer with more parameters to tune. However, it may reach a better final performance due to its flexibility.\n",
        "\n",
        "  (b) Sample quality through both visual inspection and quantitative metrics (e.g., log-likelihood on test set)\n",
        "\n",
        "  * FVSBN: samples are but a little bit unrealistic because without a hidden layer FVSBN can't model the complex patterns like edges and loops (as we can see in the outputs we can't see 7 because of the little edge that it has and the top of images are blurry).\n",
        "  * NADE: Hidden layers help capture complex relationships , so NADE perform much better here and its outputs are more coherent.\n",
        "\n",
        "  the overall loss is higher in the FVSBN than NADE after 300 epochs.\n",
        "\n",
        "  (c) Computational efficiency during both training and generation. What fundamental architectural characteristics explain the performance differences you observe?\n",
        "\n",
        "  FVSBN is faster in the training phase because it uses just one forward pass with matrix multiplication but in contrast NADE  builds hidden layers per pixel, which adds up computationally.\n",
        "\n",
        "  but both of them are slow in the sampling phase. because they must sample pixels one-by-one, because each pixel depends on the ones before it, and there is no way to parallelize this process.\n",
        "\n"
      ]
    },
    {
      "cell_type": "code",
      "execution_count": 27,
      "metadata": {},
      "outputs": [],
      "source": [
        "class FVSBN(nn.Module):\n",
        "    def __init__(self, input_dim=784):\n",
        "        super().__init__()\n",
        "        self.input_dim = input_dim\n",
        "\n",
        "        self.W = nn.Parameter(torch.randn(input_dim, input_dim) * 0.01)\n",
        "        self.b = nn.Parameter(torch.zeros(input_dim))\n",
        "        self.register_buffer(\"mask\", torch.tril(torch.ones(input_dim, input_dim), diagonal=-1))\n",
        "\n",
        "        # Training metadata\n",
        "        self.start_epoch = 0\n",
        "        self.best_loss = float('inf')\n",
        "        self.train_history = []\n",
        "        self.test_history = []\n",
        "\n",
        "\n",
        "    def forward(self, x):\n",
        "        W_masked = self.W * self.mask \n",
        "        logits = x @ W_masked.T + self.b \n",
        "        probs = torch.sigmoid(logits)\n",
        "        return probs\n",
        "\n",
        "    def log_prob(self, x):\n",
        "        x_hat = self.forward(x)\n",
        "        # Compute Bernoulli log likelihood:\n",
        "        # log p(x) = sum_d [x_d * log(p_d) + (1-x_d) * log(1-p_d)]  --- update this in order to avoid log of zero\n",
        "        epsilon = 1e-6\n",
        "        x_hat = torch.clamp(x_hat, min=epsilon, max=1 - epsilon)\n",
        "        log_prob = x * torch.log(x_hat + epsilon) + (1 - x) * torch.log(1 - x_hat + epsilon)\n",
        "\n",
        "        # Sum over all dimensions (input_dim)\n",
        "        return log_prob.sum(dim=1)\n",
        "\n",
        "\n",
        "    def generate_samples(self, num_samples=10):\n",
        "        samples = torch.zeros(num_samples, 784).to(device)\n",
        "        with torch.no_grad():\n",
        "            for d in range(784):\n",
        "                p_d = self.forward(samples)[:, d]\n",
        "                samples[:, d] = torch.bernoulli(p_d)\n",
        "        return samples.cpu()\n"
      ]
    },
    {
      "cell_type": "code",
      "execution_count": 28,
      "metadata": {},
      "outputs": [
        {
          "data": {
            "text/plain": [
              "device(type='cpu')"
            ]
          },
          "execution_count": 28,
          "metadata": {},
          "output_type": "execute_result"
        }
      ],
      "source": [
        "# The code runs faster if you run on GPU. Select Runtime -> Change runtime type -> T4 GPU\n",
        "device = torch.device('cuda' if torch.cuda.is_available() else 'cpu')\n",
        "device"
      ]
    },
    {
      "cell_type": "code",
      "execution_count": 29,
      "metadata": {},
      "outputs": [
        {
          "name": "stdout",
          "output_type": "stream",
          "text": [
            "0, training_loss = 535.3846206665039, test_loss = 525.8280029296875\n",
            "1, training_loss = 517.7595252990723, test_loss = 508.8770751953125\n",
            "2, training_loss = 501.4939842224121, test_loss = 493.24981689453125\n",
            "3, training_loss = 486.417688369751, test_loss = 478.955810546875\n",
            "4, training_loss = 472.77319717407227, test_loss = 465.7610168457031\n",
            "5, training_loss = 460.11681747436523, test_loss = 453.6865539550781\n",
            "6, training_loss = 448.412654876709, test_loss = 442.5688171386719\n",
            "7, training_loss = 437.87515449523926, test_loss = 432.3356018066406\n",
            "8, training_loss = 428.075138092041, test_loss = 422.81341552734375\n",
            "9, training_loss = 418.9977626800537, test_loss = 414.0670166015625\n",
            "10, training_loss = 410.5958824157715, test_loss = 405.9498291015625\n",
            "11, training_loss = 402.7729034423828, test_loss = 398.35162353515625\n",
            "12, training_loss = 395.5223026275635, test_loss = 391.2958984375\n",
            "13, training_loss = 388.7089614868164, test_loss = 384.7149658203125\n",
            "14, training_loss = 382.2833595275879, test_loss = 378.5059814453125\n",
            "15, training_loss = 376.34982109069824, test_loss = 372.7054748535156\n",
            "16, training_loss = 370.7111339569092, test_loss = 367.237060546875\n",
            "17, training_loss = 365.474515914917, test_loss = 362.0858154296875\n",
            "18, training_loss = 360.42399406433105, test_loss = 357.2102966308594\n",
            "19, training_loss = 355.70490646362305, test_loss = 352.5846862792969\n",
            "20, training_loss = 351.2729606628418, test_loss = 348.2776794433594\n",
            "21, training_loss = 347.1581802368164, test_loss = 344.1042785644531\n",
            "22, training_loss = 343.14759826660156, test_loss = 340.159912109375\n",
            "23, training_loss = 339.35509872436523, test_loss = 336.38934326171875\n",
            "24, training_loss = 335.80104637145996, test_loss = 332.8780517578125\n",
            "25, training_loss = 332.2670097351074, test_loss = 329.4320983886719\n",
            "26, training_loss = 329.0430393218994, test_loss = 326.1655578613281\n",
            "27, training_loss = 325.9066791534424, test_loss = 323.0549011230469\n",
            "28, training_loss = 322.81403732299805, test_loss = 320.0747375488281\n",
            "29, training_loss = 319.9802131652832, test_loss = 317.185302734375\n",
            "30, training_loss = 317.03789710998535, test_loss = 314.4447937011719\n",
            "31, training_loss = 314.4767646789551, test_loss = 311.7838134765625\n",
            "32, training_loss = 311.86435317993164, test_loss = 309.2497253417969\n",
            "33, training_loss = 309.4740447998047, test_loss = 306.80029296875\n",
            "34, training_loss = 306.9957809448242, test_loss = 304.4139709472656\n",
            "35, training_loss = 304.63647270202637, test_loss = 302.1247863769531\n",
            "36, training_loss = 302.4077568054199, test_loss = 299.90704345703125\n",
            "37, training_loss = 300.1654586791992, test_loss = 297.78778076171875\n",
            "38, training_loss = 298.30797004699707, test_loss = 295.69537353515625\n",
            "39, training_loss = 296.3345146179199, test_loss = 293.7070617675781\n",
            "40, training_loss = 294.27653884887695, test_loss = 291.79461669921875\n",
            "41, training_loss = 292.44775772094727, test_loss = 289.8738708496094\n",
            "42, training_loss = 290.4933032989502, test_loss = 288.0978698730469\n",
            "43, training_loss = 288.7807559967041, test_loss = 286.28179931640625\n",
            "44, training_loss = 286.99122619628906, test_loss = 284.5730895996094\n",
            "45, training_loss = 285.28120040893555, test_loss = 282.93414306640625\n",
            "46, training_loss = 283.7292594909668, test_loss = 281.28997802734375\n",
            "47, training_loss = 282.09607124328613, test_loss = 279.66796875\n",
            "48, training_loss = 280.7051429748535, test_loss = 278.1429748535156\n",
            "49, training_loss = 279.19349479675293, test_loss = 276.6793518066406\n",
            "50, training_loss = 277.641939163208, test_loss = 275.2269287109375\n",
            "51, training_loss = 276.258731842041, test_loss = 273.7973327636719\n",
            "52, training_loss = 274.7390880584717, test_loss = 272.38690185546875\n",
            "53, training_loss = 273.3470401763916, test_loss = 271.00360107421875\n",
            "54, training_loss = 272.2107124328613, test_loss = 269.68731689453125\n",
            "55, training_loss = 270.9115390777588, test_loss = 268.4154052734375\n",
            "56, training_loss = 269.6675224304199, test_loss = 267.1378173828125\n",
            "57, training_loss = 268.36155891418457, test_loss = 265.89593505859375\n",
            "58, training_loss = 267.35874938964844, test_loss = 264.6663513183594\n",
            "59, training_loss = 266.0098285675049, test_loss = 263.5093078613281\n",
            "60, training_loss = 264.7192134857178, test_loss = 262.3704833984375\n",
            "61, training_loss = 263.7285041809082, test_loss = 261.2008056640625\n",
            "62, training_loss = 262.31388759613037, test_loss = 260.09405517578125\n",
            "63, training_loss = 261.32387828826904, test_loss = 258.9683532714844\n",
            "64, training_loss = 260.21482276916504, test_loss = 257.9423828125\n",
            "65, training_loss = 259.3320074081421, test_loss = 256.93353271484375\n",
            "66, training_loss = 258.1545162200928, test_loss = 255.90585327148438\n",
            "67, training_loss = 257.12411880493164, test_loss = 254.8522491455078\n",
            "68, training_loss = 256.1608066558838, test_loss = 253.8863983154297\n",
            "69, training_loss = 255.17299461364746, test_loss = 252.91983032226562\n",
            "70, training_loss = 254.3305149078369, test_loss = 251.9525146484375\n",
            "71, training_loss = 253.26067352294922, test_loss = 251.01849365234375\n",
            "72, training_loss = 252.43591022491455, test_loss = 250.0948944091797\n",
            "73, training_loss = 251.61557388305664, test_loss = 249.16012573242188\n",
            "74, training_loss = 250.65462017059326, test_loss = 248.3009796142578\n",
            "75, training_loss = 250.03671169281006, test_loss = 247.4134063720703\n",
            "76, training_loss = 249.0980043411255, test_loss = 246.56777954101562\n",
            "77, training_loss = 248.08672714233398, test_loss = 245.7350616455078\n",
            "78, training_loss = 247.0864658355713, test_loss = 244.8675537109375\n",
            "79, training_loss = 246.44091415405273, test_loss = 244.1007537841797\n",
            "80, training_loss = 245.63929653167725, test_loss = 243.2864990234375\n",
            "81, training_loss = 244.77584648132324, test_loss = 242.4638671875\n",
            "82, training_loss = 244.12384128570557, test_loss = 241.72265625\n",
            "83, training_loss = 243.10683727264404, test_loss = 240.90936279296875\n",
            "84, training_loss = 242.54640865325928, test_loss = 240.18630981445312\n",
            "85, training_loss = 241.8496675491333, test_loss = 239.4707489013672\n",
            "86, training_loss = 240.99981021881104, test_loss = 238.6783905029297\n",
            "87, training_loss = 240.42181015014648, test_loss = 237.95558166503906\n",
            "88, training_loss = 239.56625175476074, test_loss = 237.2407989501953\n",
            "89, training_loss = 239.10295581817627, test_loss = 236.5440673828125\n",
            "90, training_loss = 238.17309379577637, test_loss = 235.87356567382812\n",
            "91, training_loss = 237.43341255187988, test_loss = 235.13502502441406\n",
            "92, training_loss = 236.9000825881958, test_loss = 234.5281219482422\n",
            "93, training_loss = 236.08626461029053, test_loss = 233.76895141601562\n",
            "94, training_loss = 235.72894859313965, test_loss = 233.18629455566406\n",
            "95, training_loss = 234.798020362854, test_loss = 232.51806640625\n",
            "96, training_loss = 234.2345552444458, test_loss = 231.84417724609375\n",
            "97, training_loss = 233.50146007537842, test_loss = 231.237548828125\n",
            "98, training_loss = 232.94022274017334, test_loss = 230.6160888671875\n",
            "99, training_loss = 232.22175693511963, test_loss = 229.97836303710938\n",
            "100, training_loss = 231.56436729431152, test_loss = 229.3458251953125\n",
            "101, training_loss = 231.09359741210938, test_loss = 228.7916259765625\n",
            "102, training_loss = 230.50255393981934, test_loss = 228.1875457763672\n",
            "103, training_loss = 230.03407192230225, test_loss = 227.5587158203125\n",
            "104, training_loss = 229.36766242980957, test_loss = 227.03025817871094\n",
            "105, training_loss = 228.67514038085938, test_loss = 226.4390106201172\n",
            "106, training_loss = 228.11534690856934, test_loss = 225.9101104736328\n",
            "107, training_loss = 227.64945125579834, test_loss = 225.30494689941406\n",
            "108, training_loss = 227.06513118743896, test_loss = 224.73109436035156\n",
            "109, training_loss = 226.39064502716064, test_loss = 224.20172119140625\n",
            "110, training_loss = 225.90595817565918, test_loss = 223.65744018554688\n",
            "111, training_loss = 225.369647026062, test_loss = 223.08042907714844\n",
            "112, training_loss = 224.86400604248047, test_loss = 222.58602905273438\n",
            "113, training_loss = 224.34758758544922, test_loss = 222.02883911132812\n",
            "114, training_loss = 223.64837074279785, test_loss = 221.4984130859375\n",
            "115, training_loss = 223.23425006866455, test_loss = 221.0108184814453\n",
            "116, training_loss = 222.79769897460938, test_loss = 220.4918212890625\n",
            "117, training_loss = 222.35862159729004, test_loss = 220.0176544189453\n",
            "118, training_loss = 221.6203145980835, test_loss = 219.46524047851562\n",
            "119, training_loss = 221.27621459960938, test_loss = 218.96701049804688\n",
            "120, training_loss = 220.797682762146, test_loss = 218.50875854492188\n",
            "121, training_loss = 220.4248867034912, test_loss = 218.01634216308594\n",
            "122, training_loss = 219.66793823242188, test_loss = 217.51675415039062\n",
            "123, training_loss = 219.1809539794922, test_loss = 217.0848388671875\n",
            "124, training_loss = 218.6495876312256, test_loss = 216.5614013671875\n",
            "125, training_loss = 218.12372398376465, test_loss = 216.13137817382812\n",
            "126, training_loss = 217.86909580230713, test_loss = 215.61338806152344\n",
            "127, training_loss = 217.30348873138428, test_loss = 215.20474243164062\n",
            "128, training_loss = 216.87381076812744, test_loss = 214.74835205078125\n",
            "129, training_loss = 216.67315196990967, test_loss = 214.24490356445312\n",
            "130, training_loss = 215.8325891494751, test_loss = 213.830322265625\n",
            "131, training_loss = 215.63516521453857, test_loss = 213.37460327148438\n",
            "132, training_loss = 215.4367380142212, test_loss = 212.94956970214844\n",
            "133, training_loss = 214.68129634857178, test_loss = 212.4931640625\n",
            "134, training_loss = 214.31175804138184, test_loss = 212.08302307128906\n",
            "135, training_loss = 213.72064876556396, test_loss = 211.6497039794922\n",
            "136, training_loss = 213.3205213546753, test_loss = 211.22805786132812\n",
            "137, training_loss = 212.87747478485107, test_loss = 210.77853393554688\n",
            "138, training_loss = 212.39194869995117, test_loss = 210.3533477783203\n",
            "139, training_loss = 212.10083484649658, test_loss = 209.97515869140625\n",
            "140, training_loss = 211.66819763183594, test_loss = 209.56582641601562\n",
            "141, training_loss = 211.3921594619751, test_loss = 209.13587951660156\n",
            "142, training_loss = 210.83556652069092, test_loss = 208.72088623046875\n",
            "143, training_loss = 210.43792819976807, test_loss = 208.29495239257812\n",
            "144, training_loss = 210.04361820220947, test_loss = 207.8727569580078\n",
            "145, training_loss = 209.55514240264893, test_loss = 207.53485107421875\n",
            "146, training_loss = 209.1953067779541, test_loss = 207.1023712158203\n",
            "147, training_loss = 208.94098567962646, test_loss = 206.73350524902344\n",
            "148, training_loss = 208.527099609375, test_loss = 206.34632873535156\n",
            "149, training_loss = 207.92388916015625, test_loss = 205.95382690429688\n",
            "150, training_loss = 207.83356952667236, test_loss = 205.59043884277344\n",
            "151, training_loss = 207.23424530029297, test_loss = 205.19802856445312\n",
            "152, training_loss = 206.98659420013428, test_loss = 204.8209991455078\n",
            "153, training_loss = 206.46399307250977, test_loss = 204.4789276123047\n",
            "154, training_loss = 206.09088802337646, test_loss = 204.07022094726562\n",
            "155, training_loss = 205.8082389831543, test_loss = 203.73590087890625\n",
            "156, training_loss = 205.42096138000488, test_loss = 203.3605194091797\n",
            "157, training_loss = 205.16793632507324, test_loss = 203.00819396972656\n",
            "158, training_loss = 204.67262172698975, test_loss = 202.61868286132812\n",
            "159, training_loss = 204.32397556304932, test_loss = 202.26922607421875\n",
            "160, training_loss = 204.00749111175537, test_loss = 201.9113006591797\n",
            "161, training_loss = 203.60134506225586, test_loss = 201.5560302734375\n",
            "162, training_loss = 203.191162109375, test_loss = 201.2303009033203\n",
            "163, training_loss = 202.86981296539307, test_loss = 200.8770294189453\n",
            "164, training_loss = 202.4263219833374, test_loss = 200.53005981445312\n",
            "165, training_loss = 202.13917350769043, test_loss = 200.15821838378906\n",
            "166, training_loss = 201.6961154937744, test_loss = 199.84771728515625\n",
            "167, training_loss = 201.5370798110962, test_loss = 199.4740753173828\n",
            "168, training_loss = 201.11621570587158, test_loss = 199.16163635253906\n",
            "169, training_loss = 200.93850898742676, test_loss = 198.8341827392578\n",
            "170, training_loss = 200.59924221038818, test_loss = 198.4753875732422\n",
            "171, training_loss = 200.1360092163086, test_loss = 198.14703369140625\n",
            "172, training_loss = 199.72150802612305, test_loss = 197.8433837890625\n",
            "173, training_loss = 199.39011001586914, test_loss = 197.4761962890625\n",
            "174, training_loss = 199.12728691101074, test_loss = 197.17176818847656\n",
            "175, training_loss = 198.82135581970215, test_loss = 196.83059692382812\n",
            "176, training_loss = 198.31553554534912, test_loss = 196.532958984375\n",
            "177, training_loss = 198.3889741897583, test_loss = 196.1922607421875\n",
            "178, training_loss = 197.7236499786377, test_loss = 195.89480590820312\n",
            "179, training_loss = 197.6014165878296, test_loss = 195.5594482421875\n",
            "180, training_loss = 197.1385908126831, test_loss = 195.2355194091797\n",
            "181, training_loss = 196.79583072662354, test_loss = 194.93185424804688\n",
            "182, training_loss = 196.62994194030762, test_loss = 194.61669921875\n",
            "183, training_loss = 196.17878532409668, test_loss = 194.3152618408203\n",
            "184, training_loss = 195.98948097229004, test_loss = 194.0071258544922\n",
            "185, training_loss = 195.54596614837646, test_loss = 193.73028564453125\n",
            "186, training_loss = 195.30753898620605, test_loss = 193.41294860839844\n",
            "187, training_loss = 195.08996105194092, test_loss = 193.11636352539062\n",
            "188, training_loss = 194.59404468536377, test_loss = 192.8421173095703\n",
            "189, training_loss = 194.464506149292, test_loss = 192.5419921875\n",
            "190, training_loss = 194.01040935516357, test_loss = 192.22837829589844\n",
            "191, training_loss = 193.77863311767578, test_loss = 191.94668579101562\n",
            "192, training_loss = 193.49799633026123, test_loss = 191.62506103515625\n",
            "193, training_loss = 193.13488388061523, test_loss = 191.30145263671875\n",
            "194, training_loss = 192.88949394226074, test_loss = 191.03746032714844\n",
            "195, training_loss = 192.51897430419922, test_loss = 190.74737548828125\n",
            "196, training_loss = 192.22918891906738, test_loss = 190.45294189453125\n",
            "197, training_loss = 191.94035053253174, test_loss = 190.1468505859375\n",
            "198, training_loss = 191.75478553771973, test_loss = 189.84410095214844\n",
            "199, training_loss = 191.44258880615234, test_loss = 189.56484985351562\n",
            "200, training_loss = 191.12113857269287, test_loss = 189.31063842773438\n",
            "201, training_loss = 190.8889036178589, test_loss = 189.0163116455078\n",
            "202, training_loss = 190.50631523132324, test_loss = 188.80160522460938\n",
            "203, training_loss = 190.23168563842773, test_loss = 188.48184204101562\n",
            "204, training_loss = 189.87571239471436, test_loss = 188.2674560546875\n",
            "205, training_loss = 189.48346138000488, test_loss = 187.94320678710938\n",
            "206, training_loss = 189.58594799041748, test_loss = 187.68447875976562\n",
            "207, training_loss = 188.99594974517822, test_loss = 187.37039184570312\n",
            "208, training_loss = 188.74931240081787, test_loss = 187.0929412841797\n",
            "209, training_loss = 188.54818630218506, test_loss = 186.8297882080078\n",
            "210, training_loss = 188.38536548614502, test_loss = 186.5834503173828\n",
            "211, training_loss = 188.03521633148193, test_loss = 186.3030242919922\n",
            "212, training_loss = 187.83007717132568, test_loss = 186.024658203125\n",
            "213, training_loss = 187.45684719085693, test_loss = 185.7709503173828\n",
            "214, training_loss = 187.2215166091919, test_loss = 185.51513671875\n",
            "215, training_loss = 187.04173469543457, test_loss = 185.24151611328125\n",
            "216, training_loss = 186.64990711212158, test_loss = 184.9958953857422\n",
            "217, training_loss = 186.44678401947021, test_loss = 184.75299072265625\n",
            "218, training_loss = 186.25620460510254, test_loss = 184.50997924804688\n",
            "219, training_loss = 185.97561359405518, test_loss = 184.2091064453125\n",
            "220, training_loss = 185.47332572937012, test_loss = 183.96363830566406\n",
            "221, training_loss = 185.33976364135742, test_loss = 183.70025634765625\n",
            "222, training_loss = 184.9414701461792, test_loss = 183.4583282470703\n",
            "223, training_loss = 184.81152725219727, test_loss = 183.20947265625\n",
            "224, training_loss = 184.67981910705566, test_loss = 182.9228515625\n",
            "225, training_loss = 184.45306205749512, test_loss = 182.7115478515625\n",
            "226, training_loss = 184.15885543823242, test_loss = 182.46910095214844\n",
            "227, training_loss = 183.70908641815186, test_loss = 182.2042236328125\n",
            "228, training_loss = 183.48308086395264, test_loss = 181.9246063232422\n",
            "229, training_loss = 183.35262298583984, test_loss = 181.70968627929688\n",
            "230, training_loss = 183.18193244934082, test_loss = 181.46478271484375\n",
            "231, training_loss = 182.83383655548096, test_loss = 181.20790100097656\n",
            "232, training_loss = 182.47930526733398, test_loss = 180.9644317626953\n",
            "233, training_loss = 182.23073863983154, test_loss = 180.7755126953125\n",
            "234, training_loss = 182.0390214920044, test_loss = 180.49049377441406\n",
            "235, training_loss = 181.8539800643921, test_loss = 180.2504119873047\n",
            "236, training_loss = 181.50583839416504, test_loss = 180.00865173339844\n",
            "237, training_loss = 181.13346767425537, test_loss = 179.77877807617188\n",
            "238, training_loss = 181.2095832824707, test_loss = 179.54530334472656\n",
            "239, training_loss = 180.93847179412842, test_loss = 179.30215454101562\n",
            "240, training_loss = 180.7216920852661, test_loss = 179.06396484375\n",
            "241, training_loss = 180.40275382995605, test_loss = 178.86148071289062\n",
            "242, training_loss = 180.1746702194214, test_loss = 178.59933471679688\n",
            "243, training_loss = 179.86400413513184, test_loss = 178.38478088378906\n",
            "244, training_loss = 179.55120754241943, test_loss = 178.13819885253906\n",
            "245, training_loss = 179.50781345367432, test_loss = 177.93177795410156\n",
            "246, training_loss = 179.24027156829834, test_loss = 177.6641082763672\n",
            "247, training_loss = 179.02853775024414, test_loss = 177.48988342285156\n",
            "248, training_loss = 178.75758361816406, test_loss = 177.23236083984375\n",
            "249, training_loss = 178.49969291687012, test_loss = 176.9979248046875\n",
            "250, training_loss = 178.22593212127686, test_loss = 176.74270629882812\n",
            "251, training_loss = 177.8846607208252, test_loss = 176.52520751953125\n",
            "252, training_loss = 177.78724765777588, test_loss = 176.35498046875\n",
            "253, training_loss = 177.5637331008911, test_loss = 176.0861053466797\n",
            "254, training_loss = 177.21880531311035, test_loss = 175.9058837890625\n",
            "255, training_loss = 177.05422496795654, test_loss = 175.6592254638672\n",
            "256, training_loss = 176.74194622039795, test_loss = 175.4248809814453\n",
            "257, training_loss = 176.7112865447998, test_loss = 175.2147979736328\n",
            "258, training_loss = 176.39077949523926, test_loss = 175.01055908203125\n",
            "259, training_loss = 176.1481704711914, test_loss = 174.75326538085938\n",
            "260, training_loss = 175.87294578552246, test_loss = 174.53732299804688\n",
            "261, training_loss = 175.7821683883667, test_loss = 174.31155395507812\n",
            "262, training_loss = 175.49292087554932, test_loss = 174.15696716308594\n",
            "263, training_loss = 175.2591323852539, test_loss = 173.85427856445312\n",
            "264, training_loss = 174.89417171478271, test_loss = 173.68309020996094\n",
            "265, training_loss = 174.7992649078369, test_loss = 173.45509338378906\n",
            "266, training_loss = 174.66821956634521, test_loss = 173.30604553222656\n",
            "267, training_loss = 174.20980834960938, test_loss = 173.0432586669922\n",
            "268, training_loss = 174.19603824615479, test_loss = 172.83425903320312\n",
            "269, training_loss = 173.913592338562, test_loss = 172.6239471435547\n",
            "270, training_loss = 173.73104763031006, test_loss = 172.40939331054688\n",
            "271, training_loss = 173.56879901885986, test_loss = 172.1983642578125\n",
            "272, training_loss = 173.40906715393066, test_loss = 171.9764404296875\n",
            "273, training_loss = 172.89290237426758, test_loss = 171.7687530517578\n",
            "274, training_loss = 172.83237552642822, test_loss = 171.59597778320312\n",
            "275, training_loss = 172.81336116790771, test_loss = 171.371826171875\n",
            "276, training_loss = 172.32242584228516, test_loss = 171.14447021484375\n",
            "277, training_loss = 172.22522735595703, test_loss = 170.940673828125\n",
            "278, training_loss = 172.18982028961182, test_loss = 170.7147979736328\n",
            "279, training_loss = 171.82405376434326, test_loss = 170.5618133544922\n",
            "280, training_loss = 171.55619144439697, test_loss = 170.3489532470703\n",
            "281, training_loss = 171.20422649383545, test_loss = 170.10743713378906\n",
            "282, training_loss = 171.14907264709473, test_loss = 169.92298889160156\n",
            "283, training_loss = 170.94540309906006, test_loss = 169.7265625\n",
            "284, training_loss = 170.77928829193115, test_loss = 169.52305603027344\n",
            "285, training_loss = 170.54390335083008, test_loss = 169.3213653564453\n",
            "286, training_loss = 170.30615615844727, test_loss = 169.1405029296875\n",
            "287, training_loss = 170.12512493133545, test_loss = 168.9502410888672\n",
            "288, training_loss = 169.87153816223145, test_loss = 168.75479125976562\n",
            "289, training_loss = 169.6415433883667, test_loss = 168.57601928710938\n",
            "290, training_loss = 169.7479019165039, test_loss = 168.33755493164062\n",
            "291, training_loss = 169.4195671081543, test_loss = 168.1285400390625\n",
            "292, training_loss = 169.09374618530273, test_loss = 167.94613647460938\n",
            "293, training_loss = 169.02803230285645, test_loss = 167.72991943359375\n",
            "294, training_loss = 168.6607255935669, test_loss = 167.529541015625\n",
            "295, training_loss = 168.63730812072754, test_loss = 167.38113403320312\n",
            "296, training_loss = 168.32949352264404, test_loss = 167.15597534179688\n",
            "297, training_loss = 168.23787879943848, test_loss = 166.96189880371094\n",
            "298, training_loss = 168.0479736328125, test_loss = 166.79571533203125\n",
            "299, training_loss = 167.74441146850586, test_loss = 166.6119384765625\n"
          ]
        }
      ],
      "source": [
        "model_fvsbn = FVSBN().to(device)\n",
        "optimizer = optim.Adam(model_fvsbn.parameters(), lr=1e-4)\n",
        "\n",
        "num_epochs = 300\n",
        "train_losses = []\n",
        "test_losses = []\n",
        "\n",
        "for epoch in range(num_epochs):\n",
        "    model_fvsbn.train()\n",
        "    train_loss = 0\n",
        "\n",
        "    for batch, _ in training_focused_loader:\n",
        "        batch = batch.view(-1, 784).to(device)\n",
        "        optimizer.zero_grad()\n",
        "        loss = -model_fvsbn.log_prob(batch).mean()\n",
        "        loss.backward()\n",
        "        optimizer.step()\n",
        "        train_loss += loss.item()\n",
        "\n",
        "    avg_train_loss = train_loss / len(training_focused_loader)\n",
        "    train_losses.append(avg_train_loss)\n",
        "\n",
        "    # Validation: similar to training, except no optimization and backward steps\n",
        "    model_fvsbn.eval()\n",
        "    with torch.no_grad():\n",
        "        test_loss = 0\n",
        "        for batch, _ in test_focused_loader:\n",
        "            batch = batch.view(-1, 784).to(device)\n",
        "            test_loss += -model_fvsbn.log_prob(batch).mean()\n",
        "        avg_test_loss = test_loss / len(test_focused_loader)\n",
        "        test_losses.append(avg_test_loss)\n",
        "\n",
        "\n",
        "    # For each epoch, print: epoch number, training loss, and test loss\n",
        "    print(f\"{epoch}, training_loss = {avg_train_loss}, test_loss = {avg_test_loss}\")\n"
      ]
    },
    {
      "cell_type": "code",
      "execution_count": 30,
      "metadata": {},
      "outputs": [
        {
          "data": {
            "image/png": "[encoded data removed]",
            "text/plain": [
              "<Figure size 1000x500 with 1 Axes>"
            ]
          },
          "metadata": {},
          "output_type": "display_data"
        }
      ],
      "source": [
        "plt.figure(figsize=(10, 5))\n",
        "plt.plot(train_losses, label=\"train\")\n",
        "plt.plot(test_losses, label=\"test\")\n",
        "plt.xlabel(\"epoch\")\n",
        "plt.ylabel(\"loss\")\n",
        "plt.legend()\n",
        "plt.title(\"average loss per epoch\")\n",
        "plt.show()"
      ]
    },
    {
      "cell_type": "code",
      "execution_count": 31,
      "metadata": {},
      "outputs": [
        {
          "data": {
            "image/png": "[encoded data removed]",
            "text/plain": [
              "<Figure size 1200x300 with 10 Axes>"
            ]
          },
          "metadata": {},
          "output_type": "display_data"
        }
      ],
      "source": [
        "samples = model_fvsbn.generate_samples()\n",
        "plt.figure(figsize=(12, 3))\n",
        "for i in range(10):\n",
        "    plt.subplot(1, 10, i+1)\n",
        "    plt.imshow(samples[i].view(28, 28), cmap='gray')\n",
        "    plt.axis('off')\n",
        "plt.suptitle(f\"Generated Samples - Epoch {num_epochs}\")\n",
        "plt.tight_layout()\n",
        "plt.show()"
      ]
    }
  ],
  "metadata": {
    "colab": {
      "provenance": []
    },
    "kernelspec": {
      "display_name": "base",
      "language": "python",
      "name": "python3"
    },
    "language_info": {
      "codemirror_mode": {
        "name": "ipython",
        "version": 3
      },
      "file_extension": ".py",
      "mimetype": "text/x-python",
      "name": "python",
      "nbconvert_exporter": "python",
      "pygments_lexer": "ipython3",
      "version": "3.11.5"
    }
  },
  "nbformat": 4,
  "nbformat_minor": 0
}
